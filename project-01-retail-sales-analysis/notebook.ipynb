# Import necessary libraries
import pandas as pd
import matplotlib.pyplot as plt

# Load sample retail sales data (example)
df = pd.read_csv("data/Online Retail.xlsx")
print(df.head())
