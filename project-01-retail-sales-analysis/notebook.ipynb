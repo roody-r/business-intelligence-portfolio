# Import necessary libraries
import pandas as pd
import matplotlib.pyplot as plt

# Load sample retail sales data (example)
df = pd.read_csv("data/sales_data.csv")
print(df.head())
